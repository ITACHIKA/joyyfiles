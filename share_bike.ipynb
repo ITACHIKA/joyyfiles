{
 "cells": [
  {
   "cell_type": "code",
   "execution_count": 551,
   "metadata": {},
   "outputs": [],
   "source": [
    "import pandas as pd\n",
    "import numpy as np\n",
    "import matplotlib.pyplot as plt\n",
    "from sklearn.linear_model import LinearRegression\n",
    "from sklearn.tree import DecisionTreeRegressor\n",
    "from sklearn.model_selection import train_test_split\n",
    "from sklearn.metrics import r2_score\n",
    "\n",
    "df=pd.read_csv('./share_bike.csv')"
   ]
  },
  {
   "cell_type": "code",
   "execution_count": 552,
   "metadata": {},
   "outputs": [],
   "source": [
    "def findOutliers(data):\n",
    "    Q1=np.percentile(data,25)\n",
    "    Q3=np.percentile(data,75)\n",
    "    IQR=Q3-Q1\n",
    "\n",
    "    upOutliers=np.where(data>=Q3+1.5*IQR)[0]\n",
    "    lowOutliers=np.where(data<=Q1-1.5*IQR)[0]\n",
    "    outliers=np.concatenate((upOutliers,lowOutliers))\n",
    "\n",
    "    return outliers"
   ]
  },
  {
   "cell_type": "markdown",
   "metadata": {},
   "source": [
    "### wash holiday&workday data"
   ]
  },
  {
   "cell_type": "code",
   "execution_count": 553,
   "metadata": {},
   "outputs": [
    {
     "name": "stdout",
     "output_type": "stream",
     "text": [
      "datetime      2011-01-02 17:00:00\n",
      "season                          1\n",
      "holiday                         1\n",
      "workingday                      0\n",
      "weather                         1\n",
      "temp                        13.94\n",
      "atemp                      16.665\n",
      "humidity                       57\n",
      "windspeed                  12.998\n",
      "casual                          7\n",
      "registered                     58\n",
      "count                          65\n",
      "Name: 40, dtype: object\n"
     ]
    }
   ],
   "source": [
    "df['datetime']=pd.to_datetime(df['datetime'])\n",
    "#df['datetime']=df['datetime'].dt.hour\n",
    "#df.rename(columns={'datetime':'hours'},inplace=True)\n",
    "\n",
    "pd.options.mode.copy_on_write = True\n",
    "\n",
    "for i in range(len(df)):\n",
    "    #data=df.iloc[i]\n",
    "    #print(type(data))\n",
    "    #print(data)\n",
    "    df.loc[i,\"holiday\"]=0\n",
    "    df.loc[i,\"workingday\"]=1\n",
    "    #print(df.loc[i,\"datetime\"].dayofweek)\n",
    "    if(df.loc[i,\"datetime\"].dayofweek == 5 or df.loc[i,\"datetime\"].dayofweek == 6):\n",
    "        df.loc[i,\"workingday\"]=0\n",
    "        df.loc[i,\"holiday\"]=1\n",
    "\n",
    "print(df.iloc[40])"
   ]
  },
  {
   "cell_type": "markdown",
   "metadata": {},
   "source": [
    "##### wash wind speed data"
   ]
  },
  {
   "cell_type": "code",
   "execution_count": 554,
   "metadata": {},
   "outputs": [],
   "source": [
    "df.loc[0,\"windspeed\"]=6.0032\n",
    "for i in range(1,len(df)):\n",
    "    if(df.loc[i,\"windspeed\"]==0):\n",
    "        if(df.loc[i+1,\"windspeed\"]!=0):\n",
    "            df.loc[i,\"windspeed\"]=np.mean([df.loc[i-1,\"windspeed\"],df.loc[i+1,\"windspeed\"]])\n",
    "        else:\n",
    "            df.loc[i,\"windspeed\"]=df.loc[i-1,\"windspeed\"]\n",
    "#print(df)"
   ]
  },
  {
   "cell_type": "markdown",
   "metadata": {},
   "source": [
    "### analysis based on hour"
   ]
  },
  {
   "cell_type": "code",
   "execution_count": 555,
   "metadata": {},
   "outputs": [],
   "source": [
    "def hourAnalysis(df):\n",
    "    hourData=df.loc[:,['datetime','count']]\n",
    "    hourData['datetime']=hourData['datetime'].dt.hour\n",
    "    hourData.rename(columns={'datetime':'hour'},inplace=True)\n",
    "    #print(hourData)\n",
    "\n",
    "    plt.figure()\n",
    "    plt.xlabel(\"hour\")\n",
    "    plt.ylabel(\"counts\")\n",
    "    plt.xticks(range(0,24))\n",
    "    plt.scatter(hourData[\"hour\"],hourData['count'],s=1)"
   ]
  },
  {
   "cell_type": "markdown",
   "metadata": {},
   "source": [
    "### analysis based on temperature"
   ]
  },
  {
   "cell_type": "code",
   "execution_count": 556,
   "metadata": {},
   "outputs": [],
   "source": [
    "def tempAnalysis(df):\n",
    "    tempData=df.loc[:,['temp','count']]\n",
    "    tempData=tempData.reset_index()\n",
    "    \n",
    "    x=np.array(tempData['temp']).reshape(-1,1)\n",
    "    y=np.array(tempData['count']).reshape(-1,1)\n",
    "\n",
    "    print(np.shape(x))\n",
    "    print(np.shape(y))\n",
    "\n",
    "    x_train,x_test,y_train,y_test=train_test_split(x,y,test_size=0.2,random_state=91)\n",
    "\n",
    "    model=LinearRegression()\n",
    "    model.fit(x_train,y_train)\n",
    "    y_pred=model.predict(x_test)\n",
    "    print(r2_score(y_test,y_pred))\n",
    "\n",
    "#print(tempData[\"temp\"])\n",
    "\n",
    "    olList=findOutliers(tempData['count'])\n",
    "#print(olList)\n",
    "\n",
    "    tempData.drop(index=olList,inplace=True)\n",
    "#print(np.shape(tempData['temp']))\n",
    "#print(np.shape(tempData['count']))\n",
    "\n",
    "    plt.close()\n",
    "    plt.figure(dpi=100)\n",
    "    plt.xlabel(\"temp\")\n",
    "    plt.ylabel(\"counts\")\n",
    "    plt.scatter(tempData['temp'],tempData['count'],s=1)\n",
    "    plt.plot(x,model.predict(x),color=\"red\")"
   ]
  },
  {
   "cell_type": "markdown",
   "metadata": {},
   "source": [
    "### based on actual temp"
   ]
  },
  {
   "cell_type": "code",
   "execution_count": 557,
   "metadata": {},
   "outputs": [],
   "source": [
    "def atAnalysis(df):\n",
    "    atData=df.loc[:,['atemp','count']]\n",
    "    atData=atData.reset_index()\n",
    "    #print(atData[\"atemp\"])\n",
    "\n",
    "    olList=findOutliers(atData['count'])\n",
    "    #print(olList)\n",
    "\n",
    "    atData.drop(index=olList,inplace=True)\n",
    "\n",
    "    plt.close()\n",
    "    plt.figure(dpi=100)\n",
    "    plt.xlabel(\"atemp\")\n",
    "    plt.ylabel(\"counts\")\n",
    "    plt.scatter(atData[\"atemp\"],atData['count'],s=1)"
   ]
  },
  {
   "cell_type": "markdown",
   "metadata": {},
   "source": [
    "### analysis based on humidity"
   ]
  },
  {
   "cell_type": "code",
   "execution_count": 558,
   "metadata": {},
   "outputs": [],
   "source": [
    "def humAnalysis(df):\n",
    "    humData=df.loc[:,['humidity','count']]\n",
    "    humData=humData.reset_index()\n",
    "#print(humData[\"humidity\"])\n",
    "\n",
    "    olList=findOutliers(humData['count'])\n",
    "#print(olList)\n",
    "\n",
    "    humData.drop(index=olList,inplace=True)\n",
    "    plt.close()\n",
    "    plt.figure(dpi=100)\n",
    "    plt.xlabel(\"humidity\")\n",
    "    plt.ylabel(\"counts\")\n",
    "    plt.scatter(humData[\"humidity\"],humData['count'],s=1)"
   ]
  },
  {
   "cell_type": "markdown",
   "metadata": {},
   "source": [
    "### analysis based on wind speed"
   ]
  },
  {
   "cell_type": "code",
   "execution_count": 559,
   "metadata": {},
   "outputs": [],
   "source": [
    "def wsAnalysis(df):\n",
    "    wsData=df.loc[:,['windspeed','count']]\n",
    "\n",
    "    wsData=wsData.reset_index()\n",
    "#print(wsData[\"windspeed\"])\n",
    "\n",
    "    olList=findOutliers(wsData['count'])\n",
    "#print(olList)\n",
    "\n",
    "    wsData.drop(index=olList,inplace=True)\n",
    "\n",
    "    plt.close()\n",
    "    plt.figure(dpi=100)\n",
    "    plt.xlabel(\"windspeed\")\n",
    "    plt.ylabel(\"counts\")\n",
    "    plt.scatter(wsData[\"windspeed\"],wsData['count'],s=1)"
   ]
  },
  {
   "cell_type": "markdown",
   "metadata": {},
   "source": [
    "### weather based"
   ]
  },
  {
   "cell_type": "code",
   "execution_count": 560,
   "metadata": {},
   "outputs": [],
   "source": [
    "def wtAnalysis(df):\n",
    "    wtData=df.loc[:,['weather','count']]\n",
    "\n",
    "    wtData=wtData.reset_index()\n",
    "#print(wtData[\"weather\"])\n",
    "\n",
    "    olList=findOutliers(wtData['count'])\n",
    "#print(olList)\n",
    "\n",
    "    wtData.drop(index=olList,inplace=True)\n",
    "\n",
    "    plt.close()\n",
    "    plt.figure(dpi=100)\n",
    "    plt.xlabel(\"weather\")\n",
    "    plt.ylabel(\"counts\")\n",
    "    plt.scatter(wtData[\"weather\"],wtData['count'],s=1)"
   ]
  },
  {
   "cell_type": "markdown",
   "metadata": {},
   "source": [
    "### casual & registered relationship"
   ]
  },
  {
   "cell_type": "code",
   "execution_count": 561,
   "metadata": {},
   "outputs": [],
   "source": [
    "def crAnalysis(df):\n",
    "    crData=df.loc[:,['casual','registered']]\n",
    "    \n",
    "#print(crData[\"weather\"])\n",
    "\n",
    "    crData=crData.reset_index()\n",
    "#print(atData[\"atemp\"])\n",
    "\n",
    "    olList=findOutliers(crData['registered'])\n",
    "#print(olList)\n",
    "\n",
    "    crData.drop(index=olList,inplace=True)\n",
    "\n",
    "    fig_axis_size=np.max([np.max(crData[\"casual\"]),np.max(crData[\"registered\"])])\n",
    "\n",
    "#print(fig_axis_size)\n",
    "\n",
    "    plt.close()\n",
    "    plt.figure(dpi=100)\n",
    "    plt.xlabel(\"casual\")\n",
    "    plt.ylabel(\"registered\")\n",
    "    plt.scatter(crData[\"casual\"],crData['registered'],s=1)\n",
    "    plt.plot([0,fig_axis_size],[0,fig_axis_size],color=\"red\")"
   ]
  },
  {
   "cell_type": "markdown",
   "metadata": {},
   "source": [
    "##### select partial data to use"
   ]
  },
  {
   "cell_type": "code",
   "execution_count": 562,
   "metadata": {},
   "outputs": [],
   "source": [
    "df=df[df['season']>=3]\n",
    "df=df[df['season']<=3]\n",
    "df=df[df['holiday']==1]\n",
    "df=df[df['datetime'].dt.hour>6]\n",
    "df=df[df['datetime'].dt.hour<18]\n",
    "\n",
    "df['counts']=df['registered']\n",
    "#df['counts']=df['casual']\n",
    "#print(df)"
   ]
  },
  {
   "cell_type": "code",
   "execution_count": 563,
   "metadata": {},
   "outputs": [
    {
     "name": "stdout",
     "output_type": "stream",
     "text": [
      "(165, 1)\n",
      "(165, 1)\n",
      "0.2700413396625423\n"
     ]
    },
    {
     "data": {
      "image/png": "[encoded data removed]",
      "text/plain": [
       "<Figure size 640x480 with 1 Axes>"
      ]
     },
     "metadata": {},
     "output_type": "display_data"
    },
    {
     "data": {
      "image/png": "[encoded data removed]",
      "text/plain": [
       "<Figure size 640x480 with 1 Axes>"
      ]
     },
     "metadata": {},
     "output_type": "display_data"
    }
   ],
   "source": [
    "tempAnalysis(df)\n",
    "hourAnalysis(df)"
   ]
  }
 ],
 "metadata": {
  "kernelspec": {
   "display_name": "Python 3",
   "language": "python",
   "name": "python3"
  },
  "language_info": {
   "codemirror_mode": {
    "name": "ipython",
    "version": 3
   },
   "file_extension": ".py",
   "mimetype": "text/x-python",
   "name": "python",
   "nbconvert_exporter": "python",
   "pygments_lexer": "ipython3",
   "version": "3.12.3"
  }
 },
 "nbformat": 4,
 "nbformat_minor": 2
}
